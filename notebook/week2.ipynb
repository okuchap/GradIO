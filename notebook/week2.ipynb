{
 "cells": [
  {
   "cell_type": "markdown",
   "metadata": {},
   "source": [
    "## Non-linear least square\n",
    "\n",
    "* `DataProblem2019.csv`"
   ]
  },
  {
   "cell_type": "code",
   "execution_count": 3,
   "metadata": {
    "ExecuteTime": {
     "end_time": "2019-04-17T13:16:27.072278Z",
     "start_time": "2019-04-17T13:16:26.326478Z"
    }
   },
   "outputs": [],
   "source": [
    "import pandas as pd\n",
    "import numpy as np\n",
    "from scipy.optimize import minimize"
   ]
  },
  {
   "cell_type": "code",
   "execution_count": 4,
   "metadata": {
    "ExecuteTime": {
     "end_time": "2019-04-17T13:16:28.251469Z",
     "start_time": "2019-04-17T13:16:28.220778Z"
    }
   },
   "outputs": [],
   "source": [
    "df = pd.read_csv('DataProblem201904.csv', header=None)\n",
    "data = df.values"
   ]
  },
  {
   "cell_type": "code",
   "execution_count": 5,
   "metadata": {
    "ExecuteTime": {
     "end_time": "2019-04-17T13:16:29.284874Z",
     "start_time": "2019-04-17T13:16:29.273461Z"
    }
   },
   "outputs": [
    {
     "data": {
      "text/plain": [
       "(1000,)"
      ]
     },
     "execution_count": 5,
     "metadata": {},
     "output_type": "execute_result"
    }
   ],
   "source": [
    "y = data[:,0]\n",
    "y.shape"
   ]
  },
  {
   "cell_type": "code",
   "execution_count": 6,
   "metadata": {
    "ExecuteTime": {
     "end_time": "2019-04-17T13:16:30.366841Z",
     "start_time": "2019-04-17T13:16:30.362920Z"
    }
   },
   "outputs": [],
   "source": [
    "n = data.shape[0]\n",
    "X = np.hstack([np.ones((n,1)), data[:,1:3]])\n",
    "#x0 = np.ones(n)\n",
    "#x1 = data[:,1]\n",
    "#x2 = data[:,2]"
   ]
  },
  {
   "cell_type": "code",
   "execution_count": 7,
   "metadata": {
    "ExecuteTime": {
     "end_time": "2019-04-17T13:16:31.119794Z",
     "start_time": "2019-04-17T13:16:31.113934Z"
    }
   },
   "outputs": [
    {
     "data": {
      "text/plain": [
       "array([[1.0, 0.104327738, 0.6739250529999999],\n",
       "       [1.0, 0.9070093340000001, 0.9653420359999999],\n",
       "       [1.0, 0.306398899, 0.051448587000000004],\n",
       "       [1.0, 0.446408872, 0.071265988]], dtype=object)"
      ]
     },
     "execution_count": 7,
     "metadata": {},
     "output_type": "execute_result"
    }
   ],
   "source": [
    "X[1:5]"
   ]
  },
  {
   "cell_type": "code",
   "execution_count": 8,
   "metadata": {
    "ExecuteTime": {
     "end_time": "2019-04-17T13:16:53.738300Z",
     "start_time": "2019-04-17T13:16:53.733417Z"
    }
   },
   "outputs": [
    {
     "data": {
      "text/plain": [
       "(1000, 3)"
      ]
     },
     "execution_count": 8,
     "metadata": {},
     "output_type": "execute_result"
    }
   ],
   "source": [
    "X.shape"
   ]
  },
  {
   "cell_type": "code",
   "execution_count": 9,
   "metadata": {
    "ExecuteTime": {
     "end_time": "2019-04-17T13:16:54.734275Z",
     "start_time": "2019-04-17T13:16:54.728998Z"
    }
   },
   "outputs": [
    {
     "data": {
      "text/plain": [
       "(3,)"
      ]
     },
     "execution_count": 9,
     "metadata": {},
     "output_type": "execute_result"
    }
   ],
   "source": [
    "X[1].shape"
   ]
  },
  {
   "cell_type": "code",
   "execution_count": 10,
   "metadata": {
    "ExecuteTime": {
     "end_time": "2019-04-17T13:16:55.402981Z",
     "start_time": "2019-04-17T13:16:55.398423Z"
    }
   },
   "outputs": [],
   "source": [
    "def loss(beta):\n",
    "    sum = 0\n",
    "    for i in range(n):\n",
    "        sum += (y[i] - np.dot(X[i], beta))**2\n",
    "    return sum"
   ]
  },
  {
   "cell_type": "code",
   "execution_count": 12,
   "metadata": {
    "ExecuteTime": {
     "end_time": "2019-04-17T13:17:11.739143Z",
     "start_time": "2019-04-17T13:17:11.612116Z"
    }
   },
   "outputs": [
    {
     "data": {
      "text/plain": [
       "      fun: 0.6316619344687827\n",
       " hess_inv: array([[ 3.60662538e-03, -3.03446105e-03, -3.08732401e-03],\n",
       "       [-3.03446105e-03,  5.93858989e-03,  3.49959555e-05],\n",
       "       [-3.08732401e-03,  3.49959555e-05,  6.05476192e-03]])\n",
       "      jac: array([-7.45058060e-09,  6.70552254e-08,  1.49011612e-08])\n",
       "  message: 'Optimization terminated successfully.'\n",
       "     nfev: 55\n",
       "      nit: 7\n",
       "     njev: 11\n",
       "   status: 0\n",
       "  success: True\n",
       "        x: array([1.94146068, 0.99866844, 3.00444107])"
      ]
     },
     "execution_count": 12,
     "metadata": {},
     "output_type": "execute_result"
    }
   ],
   "source": [
    "minimize(loss, x0=[1,1,1])"
   ]
  },
  {
   "cell_type": "code",
   "execution_count": 13,
   "metadata": {
    "ExecuteTime": {
     "end_time": "2019-04-17T13:17:16.871119Z",
     "start_time": "2019-04-17T13:17:16.754569Z"
    }
   },
   "outputs": [
    {
     "data": {
      "text/plain": [
       "      fun: 0.631661934468788\n",
       " hess_inv: array([[ 3.60679024e-03, -3.03451478e-03, -3.08734202e-03],\n",
       "       [-3.03451478e-03,  5.93860731e-03,  3.49963249e-05],\n",
       "       [-3.08734202e-03,  3.49963249e-05,  6.05476795e-03]])\n",
       "      jac: array([-3.72529030e-07, -1.63912773e-07, -1.93715096e-07])\n",
       "  message: 'Optimization terminated successfully.'\n",
       "     nfev: 50\n",
       "      nit: 7\n",
       "     njev: 10\n",
       "   status: 0\n",
       "  success: True\n",
       "        x: array([1.94146068, 0.99866844, 3.00444107])"
      ]
     },
     "execution_count": 13,
     "metadata": {},
     "output_type": "execute_result"
    }
   ],
   "source": [
    "# another initial guess\n",
    "minimize(loss, x0=[0,0,0])"
   ]
  },
  {
   "cell_type": "markdown",
   "metadata": {},
   "source": [
    "### `np.newaxis`\n",
    "\n",
    "* `np.dot`は多少shapeがおかしくても動いてくれるが，@はshapeをキチンと合わせないとだめっぽい\n",
    "* `np.newaxis`を使ってshapeを調整"
   ]
  },
  {
   "cell_type": "code",
   "execution_count": 65,
   "metadata": {
    "ExecuteTime": {
     "end_time": "2019-04-17T09:18:38.337950Z",
     "start_time": "2019-04-17T09:18:38.334045Z"
    }
   },
   "outputs": [],
   "source": [
    "def loss_(beta):\n",
    "    sum = 0\n",
    "    for i in range(n):\n",
    "        sum += (y[i] - X[i][:np.newaxis] @ beta)**2\n",
    "    return sum"
   ]
  },
  {
   "cell_type": "code",
   "execution_count": 14,
   "metadata": {
    "ExecuteTime": {
     "end_time": "2019-04-17T13:17:27.539696Z",
     "start_time": "2019-04-17T13:17:27.408029Z"
    }
   },
   "outputs": [
    {
     "data": {
      "text/plain": [
       "      fun: 0.6316619344687827\n",
       " hess_inv: array([[ 3.60662538e-03, -3.03446105e-03, -3.08732401e-03],\n",
       "       [-3.03446105e-03,  5.93858989e-03,  3.49959555e-05],\n",
       "       [-3.08732401e-03,  3.49959555e-05,  6.05476192e-03]])\n",
       "      jac: array([-7.45058060e-09,  6.70552254e-08,  1.49011612e-08])\n",
       "  message: 'Optimization terminated successfully.'\n",
       "     nfev: 55\n",
       "      nit: 7\n",
       "     njev: 11\n",
       "   status: 0\n",
       "  success: True\n",
       "        x: array([1.94146068, 0.99866844, 3.00444107])"
      ]
     },
     "execution_count": 14,
     "metadata": {},
     "output_type": "execute_result"
    }
   ],
   "source": [
    "minimize(loss, x0=[1,1,1])"
   ]
  },
  {
   "cell_type": "markdown",
   "metadata": {},
   "source": [
    "## Discrete Choice\n",
    "\n",
    "* `DataMat.csv`"
   ]
  },
  {
   "cell_type": "code",
   "execution_count": 62,
   "metadata": {
    "ExecuteTime": {
     "end_time": "2019-04-17T09:14:00.244045Z",
     "start_time": "2019-04-17T09:14:00.240901Z"
    }
   },
   "outputs": [],
   "source": [
    "import pandas as pd\n",
    "import numpy as np\n",
    "from scipy.optimize import minimize"
   ]
  },
  {
   "cell_type": "code",
   "execution_count": 63,
   "metadata": {
    "ExecuteTime": {
     "end_time": "2019-04-17T09:14:28.134179Z",
     "start_time": "2019-04-17T09:14:28.116761Z"
    }
   },
   "outputs": [
    {
     "data": {
      "text/plain": [
       "(10000, 3)"
      ]
     },
     "execution_count": 63,
     "metadata": {},
     "output_type": "execute_result"
    }
   ],
   "source": [
    "df = pd.read_csv('DataMat.csv', header=None)\n",
    "data = df.values\n",
    "data.shape"
   ]
  },
  {
   "cell_type": "code",
   "execution_count": 70,
   "metadata": {
    "ExecuteTime": {
     "end_time": "2019-04-17T09:23:31.702183Z",
     "start_time": "2019-04-17T09:23:31.696113Z"
    }
   },
   "outputs": [
    {
     "data": {
      "text/plain": [
       "(1000,)"
      ]
     },
     "execution_count": 70,
     "metadata": {},
     "output_type": "execute_result"
    }
   ],
   "source": [
    "mu, beta = 0, 1 # location and scale\n",
    "s = np.random.gumbel(mu, beta, 1000)\n",
    "s.shape"
   ]
  },
  {
   "cell_type": "code",
   "execution_count": 71,
   "metadata": {
    "ExecuteTime": {
     "end_time": "2019-04-17T09:23:32.593728Z",
     "start_time": "2019-04-17T09:23:32.455767Z"
    }
   },
   "outputs": [
    {
     "data": {
      "image/png": "[encoded data removed]",
      "text/plain": [
       "<Figure size 432x288 with 1 Axes>"
      ]
     },
     "metadata": {
      "needs_background": "light"
     },
     "output_type": "display_data"
    }
   ],
   "source": [
    "import matplotlib.pyplot as plt\n",
    "%matplotlib inline\n",
    "\n",
    "count, bins, ignored = plt.hist(s, 30, density=True)\n",
    "plt.plot(bins, (1/beta)*np.exp(-(bins - mu)/beta) * np.exp( -np.exp( -(bins - mu) /beta) ), linewidth=2, color='r')\n",
    "plt.show()"
   ]
  },
  {
   "cell_type": "markdown",
   "metadata": {},
   "source": [
    "\\[\n",
    "    u_{ij} = X_i \\beta_j + \\epsilon_{ij}\n",
    "\\]\n",
    "\n",
    "Assuming $\\epsilon_{ij}$ are independently drawn from Type I extreme value distribution, we have\n",
    "\\[\n",
    "    \\Pr(d_i = j \\mid X_t) = \\frac{\\exp(X_i \\beta_j)}{\\sum_{k=1}^J \\exp(X_i \\beta_k)}\n",
    "\\]\n",
    "\n",
    "Obtain $\\beta$ that maximizes the following value\n",
    "\\[\n",
    "    \\prod_{i=1}^n \\left( \\prod_j \\left \\{ \\frac{\\exp(X_i \\beta_j)}{\\sum_{k=1}^J \\exp(X_i \\beta_k)} \\right\\}^{y_{ij}} \\right)\n",
    "\\]\n",
    "where $y_{ij} = 1$ means agent $i$ chooses option $j$."
   ]
  },
  {
   "cell_type": "code",
   "execution_count": 73,
   "metadata": {
    "ExecuteTime": {
     "end_time": "2019-04-17T09:36:02.543171Z",
     "start_time": "2019-04-17T09:36:02.539040Z"
    }
   },
   "outputs": [],
   "source": [
    "n = data.shape[0]\n",
    "k = data.shape[1] - 1\n",
    "y = \n",
    "X = "
   ]
  },
  {
   "cell_type": "code",
   "execution_count": null,
   "metadata": {},
   "outputs": [],
   "source": [
    "def likelihood(beta):\n",
    "    "
   ]
  }
 ],
 "metadata": {
  "kernelspec": {
   "display_name": "Python 3",
   "language": "python",
   "name": "python3"
  },
  "language_info": {
   "codemirror_mode": {
    "name": "ipython",
    "version": 3
   },
   "file_extension": ".py",
   "mimetype": "text/x-python",
   "name": "python",
   "nbconvert_exporter": "python",
   "pygments_lexer": "ipython3",
   "version": "3.6.6"
  },
  "latex_envs": {
   "LaTeX_envs_menu_present": true,
   "autoclose": false,
   "autocomplete": true,
   "bibliofile": "biblio.bib",
   "cite_by": "apalike",
   "current_citInitial": 1,
   "eqLabelWithNumbers": true,
   "eqNumInitial": 1,
   "hotkeys": {
    "equation": "Ctrl-E",
    "itemize": "Ctrl-I"
   },
   "labels_anchors": false,
   "latex_user_defs": false,
   "report_style_numbering": false,
   "user_envs_cfg": false
  },
  "toc": {
   "base_numbering": 1,
   "nav_menu": {},
   "number_sections": true,
   "sideBar": true,
   "skip_h1_title": false,
   "title_cell": "Table of Contents",
   "title_sidebar": "Contents",
   "toc_cell": false,
   "toc_position": {},
   "toc_section_display": true,
   "toc_window_display": false
  }
 },
 "nbformat": 4,
 "nbformat_minor": 2
}
