{
 "cells": [
  {
   "cell_type": "code",
   "execution_count": 4,
   "metadata": {
    "ExecuteTime": {
     "end_time": "2019-04-17T08:41:02.399297Z",
     "start_time": "2019-04-17T08:41:01.897766Z"
    }
   },
   "outputs": [
    {
     "name": "stderr",
     "output_type": "stream",
     "text": [
      "/Users/kyo/.pyenv/versions/anaconda3-5.2.0/lib/python3.6/importlib/_bootstrap.py:219: RuntimeWarning: numpy.ufunc size changed, may indicate binary incompatibility. Expected 216, got 192\n",
      "  return f(*args, **kwds)\n",
      "/Users/kyo/.pyenv/versions/anaconda3-5.2.0/lib/python3.6/importlib/_bootstrap.py:219: RuntimeWarning: numpy.ufunc size changed, may indicate binary incompatibility. Expected 216, got 192\n",
      "  return f(*args, **kwds)\n"
     ]
    }
   ],
   "source": [
    "import pandas as pd\n",
    "import numpy as np"
   ]
  },
  {
   "cell_type": "markdown",
   "metadata": {},
   "source": [
    "## Analytical method"
   ]
  },
  {
   "cell_type": "code",
   "execution_count": 5,
   "metadata": {
    "ExecuteTime": {
     "end_time": "2019-04-17T08:41:04.848685Z",
     "start_time": "2019-04-17T08:41:04.826100Z"
    }
   },
   "outputs": [],
   "source": [
    "df = pd.read_csv('GradIOsample6.csv', header=None)"
   ]
  },
  {
   "cell_type": "code",
   "execution_count": 6,
   "metadata": {
    "ExecuteTime": {
     "end_time": "2019-04-17T08:41:05.584197Z",
     "start_time": "2019-04-17T08:41:05.580942Z"
    }
   },
   "outputs": [],
   "source": [
    "data = df.values"
   ]
  },
  {
   "cell_type": "code",
   "execution_count": 7,
   "metadata": {
    "ExecuteTime": {
     "end_time": "2019-04-17T08:41:06.093418Z",
     "start_time": "2019-04-17T08:41:06.084006Z"
    }
   },
   "outputs": [
    {
     "data": {
      "text/plain": [
       "(5666, 5)"
      ]
     },
     "execution_count": 7,
     "metadata": {},
     "output_type": "execute_result"
    }
   ],
   "source": [
    "data.shape"
   ]
  },
  {
   "cell_type": "code",
   "execution_count": 8,
   "metadata": {
    "ExecuteTime": {
     "end_time": "2019-04-17T08:41:06.702158Z",
     "start_time": "2019-04-17T08:41:06.697081Z"
    }
   },
   "outputs": [
    {
     "data": {
      "text/plain": [
       "(5666,)"
      ]
     },
     "execution_count": 8,
     "metadata": {},
     "output_type": "execute_result"
    }
   ],
   "source": [
    "y = data[:,0]\n",
    "y.shape"
   ]
  },
  {
   "cell_type": "code",
   "execution_count": 9,
   "metadata": {
    "ExecuteTime": {
     "end_time": "2019-04-17T08:41:07.318828Z",
     "start_time": "2019-04-17T08:41:07.315652Z"
    }
   },
   "outputs": [],
   "source": [
    "x1 = data[:,1:5]"
   ]
  },
  {
   "cell_type": "code",
   "execution_count": 10,
   "metadata": {
    "ExecuteTime": {
     "end_time": "2019-04-17T08:41:08.151567Z",
     "start_time": "2019-04-17T08:41:08.146809Z"
    }
   },
   "outputs": [
    {
     "data": {
      "text/plain": [
       "(5666, 4)"
      ]
     },
     "execution_count": 10,
     "metadata": {},
     "output_type": "execute_result"
    }
   ],
   "source": [
    "x1.shape"
   ]
  },
  {
   "cell_type": "code",
   "execution_count": 11,
   "metadata": {
    "ExecuteTime": {
     "end_time": "2019-04-17T08:41:08.748107Z",
     "start_time": "2019-04-17T08:41:08.744872Z"
    }
   },
   "outputs": [],
   "source": [
    "n = data.shape[0]"
   ]
  },
  {
   "cell_type": "code",
   "execution_count": 13,
   "metadata": {
    "ExecuteTime": {
     "end_time": "2019-04-17T08:41:12.672262Z",
     "start_time": "2019-04-17T08:41:12.668515Z"
    }
   },
   "outputs": [],
   "source": [
    "X = np.hstack([np.ones((n,1)), x1])"
   ]
  },
  {
   "cell_type": "code",
   "execution_count": 14,
   "metadata": {
    "ExecuteTime": {
     "end_time": "2019-04-17T08:41:18.328632Z",
     "start_time": "2019-04-17T08:41:18.323708Z"
    }
   },
   "outputs": [
    {
     "data": {
      "text/plain": [
       "(5666, 5)"
      ]
     },
     "execution_count": 14,
     "metadata": {},
     "output_type": "execute_result"
    }
   ],
   "source": [
    "X.shape"
   ]
  },
  {
   "cell_type": "code",
   "execution_count": 15,
   "metadata": {
    "ExecuteTime": {
     "end_time": "2019-04-17T08:41:19.771895Z",
     "start_time": "2019-04-17T08:41:19.768086Z"
    }
   },
   "outputs": [],
   "source": [
    "K = data.shape[1]"
   ]
  },
  {
   "cell_type": "code",
   "execution_count": 16,
   "metadata": {
    "ExecuteTime": {
     "end_time": "2019-04-17T08:41:20.986284Z",
     "start_time": "2019-04-17T08:41:20.982760Z"
    }
   },
   "outputs": [],
   "source": [
    "X[:,1] = X[:,1]/10\n",
    "X[:,2] = X[:,2]/1000"
   ]
  },
  {
   "cell_type": "code",
   "execution_count": 17,
   "metadata": {
    "ExecuteTime": {
     "end_time": "2019-04-17T08:41:23.795152Z",
     "start_time": "2019-04-17T08:41:23.788014Z"
    }
   },
   "outputs": [
    {
     "data": {
      "text/plain": [
       "array([ 9.49094879e+00, -1.07746273e+00,  3.04095581e+01, -3.34891611e-04,\n",
       "        2.50034965e-01])"
      ]
     },
     "execution_count": 17,
     "metadata": {},
     "output_type": "execute_result"
    }
   ],
   "source": [
    "beta = np.linalg.inv((X.T @ X))@X.T @ y\n",
    "beta"
   ]
  },
  {
   "cell_type": "markdown",
   "metadata": {},
   "source": [
    "## Numerical Method"
   ]
  },
  {
   "cell_type": "code",
   "execution_count": 18,
   "metadata": {
    "ExecuteTime": {
     "end_time": "2019-04-17T08:41:26.464631Z",
     "start_time": "2019-04-17T08:41:26.461721Z"
    }
   },
   "outputs": [],
   "source": [
    "import scipy.optimize"
   ]
  },
  {
   "cell_type": "code",
   "execution_count": 19,
   "metadata": {
    "ExecuteTime": {
     "end_time": "2019-04-17T08:41:28.072455Z",
     "start_time": "2019-04-17T08:41:28.066309Z"
    }
   },
   "outputs": [
    {
     "data": {
      "text/plain": [
       "array([1.000e+00, 1.000e-01, 7.100e-02, 5.041e+03, 3.000e+00])"
      ]
     },
     "execution_count": 19,
     "metadata": {},
     "output_type": "execute_result"
    }
   ],
   "source": [
    "X[1]"
   ]
  },
  {
   "cell_type": "code",
   "execution_count": 48,
   "metadata": {
    "ExecuteTime": {
     "end_time": "2019-04-17T09:08:58.418045Z",
     "start_time": "2019-04-17T09:08:58.412848Z"
    }
   },
   "outputs": [
    {
     "data": {
      "text/plain": [
       "(5,)"
      ]
     },
     "execution_count": 48,
     "metadata": {},
     "output_type": "execute_result"
    }
   ],
   "source": [
    "X[1].shape"
   ]
  },
  {
   "cell_type": "code",
   "execution_count": 49,
   "metadata": {
    "ExecuteTime": {
     "end_time": "2019-04-17T09:10:58.367469Z",
     "start_time": "2019-04-17T09:10:58.362648Z"
    }
   },
   "outputs": [],
   "source": [
    "def sum_theta(theta):\n",
    "    sum = 0\n",
    "    for i in range(n):\n",
    "        sum += (y[i] - np.dot(X[i], theta))**2\n",
    "    return sum"
   ]
  },
  {
   "cell_type": "code",
   "execution_count": 43,
   "metadata": {
    "ExecuteTime": {
     "end_time": "2019-04-17T08:54:53.500392Z",
     "start_time": "2019-04-17T08:54:53.496463Z"
    }
   },
   "outputs": [],
   "source": [
    "theta_0 = np.ones((5,1))"
   ]
  },
  {
   "cell_type": "code",
   "execution_count": 50,
   "metadata": {
    "ExecuteTime": {
     "end_time": "2019-04-17T09:11:06.882124Z",
     "start_time": "2019-04-17T09:11:00.086253Z"
    }
   },
   "outputs": [],
   "source": [
    "theta_opt = scipy.optimize.minimize(sum_theta, x0=theta_0)"
   ]
  },
  {
   "cell_type": "code",
   "execution_count": 51,
   "metadata": {
    "ExecuteTime": {
     "end_time": "2019-04-17T09:11:07.928986Z",
     "start_time": "2019-04-17T09:11:07.922914Z"
    }
   },
   "outputs": [
    {
     "data": {
      "text/plain": [
       "      fun: 2720.308106870884\n",
       " hess_inv: array([[ 1.25258525e-03, -2.33637740e-03, -1.09631117e-03,\n",
       "        -1.17237040e-07, -3.26551687e-04],\n",
       "       [-2.33637740e-03,  3.51950081e-02,  5.01066019e-03,\n",
       "         8.81563228e-08,  1.37484760e-05],\n",
       "       [-1.09631117e-03,  5.01066019e-03,  1.24639459e-03,\n",
       "         9.53560143e-08,  2.20986393e-04],\n",
       "       [-1.17237040e-07,  8.81563228e-08,  9.53560143e-08,\n",
       "         4.67774232e-11,  4.29812530e-10],\n",
       "       [-3.26551687e-04,  1.37484760e-05,  2.20986393e-04,\n",
       "         4.29812530e-10,  1.43157218e-04]])\n",
       "      jac: array([-0.00524902,  0.00073242, -0.00363159, -0.09710693, -0.0012207 ])\n",
       "  message: 'Desired error not necessarily achieved due to precision loss.'\n",
       "     nfev: 747\n",
       "      nit: 13\n",
       "     njev: 105\n",
       "   status: 2\n",
       "  success: False\n",
       "        x: array([ 9.49025158e+00, -1.07746690e+00,  3.04459250e+01, -3.35311243e-04,\n",
       "        2.50036080e-01])"
      ]
     },
     "execution_count": 51,
     "metadata": {},
     "output_type": "execute_result"
    }
   ],
   "source": [
    "theta_opt"
   ]
  },
  {
   "cell_type": "code",
   "execution_count": 52,
   "metadata": {
    "ExecuteTime": {
     "end_time": "2019-04-17T09:16:25.259924Z",
     "start_time": "2019-04-17T09:16:25.254000Z"
    }
   },
   "outputs": [
    {
     "data": {
      "text/plain": [
       "array([1.000e+00, 1.000e-01, 7.100e-02, 5.041e+03, 3.000e+00])"
      ]
     },
     "execution_count": 52,
     "metadata": {},
     "output_type": "execute_result"
    }
   ],
   "source": [
    "X[1]"
   ]
  },
  {
   "cell_type": "code",
   "execution_count": 55,
   "metadata": {
    "ExecuteTime": {
     "end_time": "2019-04-17T09:17:07.992822Z",
     "start_time": "2019-04-17T09:17:07.986218Z"
    }
   },
   "outputs": [
    {
     "data": {
      "text/plain": [
       "(5, 1)"
      ]
     },
     "execution_count": 55,
     "metadata": {},
     "output_type": "execute_result"
    }
   ],
   "source": [
    "X[1][:, np.newaxis].shape"
   ]
  },
  {
   "cell_type": "code",
   "execution_count": 56,
   "metadata": {
    "ExecuteTime": {
     "end_time": "2019-04-17T09:17:16.725407Z",
     "start_time": "2019-04-17T09:17:16.719371Z"
    }
   },
   "outputs": [
    {
     "data": {
      "text/plain": [
       "array([[1.000e+00],\n",
       "       [1.000e-01],\n",
       "       [7.100e-02],\n",
       "       [5.041e+03],\n",
       "       [3.000e+00]])"
      ]
     },
     "execution_count": 56,
     "metadata": {},
     "output_type": "execute_result"
    }
   ],
   "source": [
    "X[1][:, np.newaxis]"
   ]
  }
 ],
 "metadata": {
  "kernelspec": {
   "display_name": "Python 3",
   "language": "python",
   "name": "python3"
  },
  "language_info": {
   "codemirror_mode": {
    "name": "ipython",
    "version": 3
   },
   "file_extension": ".py",
   "mimetype": "text/x-python",
   "name": "python",
   "nbconvert_exporter": "python",
   "pygments_lexer": "ipython3",
   "version": "3.6.6"
  },
  "latex_envs": {
   "LaTeX_envs_menu_present": true,
   "autoclose": false,
   "autocomplete": true,
   "bibliofile": "biblio.bib",
   "cite_by": "apalike",
   "current_citInitial": 1,
   "eqLabelWithNumbers": true,
   "eqNumInitial": 1,
   "hotkeys": {
    "equation": "Ctrl-E",
    "itemize": "Ctrl-I"
   },
   "labels_anchors": false,
   "latex_user_defs": false,
   "report_style_numbering": false,
   "user_envs_cfg": false
  },
  "toc": {
   "base_numbering": 1,
   "nav_menu": {},
   "number_sections": true,
   "sideBar": true,
   "skip_h1_title": false,
   "title_cell": "Table of Contents",
   "title_sidebar": "Contents",
   "toc_cell": false,
   "toc_position": {},
   "toc_section_display": true,
   "toc_window_display": false
  }
 },
 "nbformat": 4,
 "nbformat_minor": 2
}
