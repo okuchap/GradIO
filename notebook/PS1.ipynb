{
 "cells": [
  {
   "cell_type": "markdown",
   "metadata": {},
   "source": [
    "29-197002 経済学研究科D1\n",
    "\n",
    "奥村恭平"
   ]
  },
  {
   "cell_type": "markdown",
   "metadata": {},
   "source": [
    "## Problem 1\n",
    "\n",
    "Below, we derive\n",
    "\\[\n",
    "    \\Pr(d_i = j) = \\frac{\\exp(\\delta_j)}{\\sum_{k \\in \\mathcal{J}} \\exp(\\delta_k)}\n",
    "\\]\n",
    "\n",
    "Let $f$ be the pdf of Extreme Value Type I random variable: $f(x) := F'(x) = \\mathrm e^{-x} \\cdot \\exp(-\\exp(-x))$.\n",
    "\n",
    "\\begin{align*}\n",
    "\t\\Pr(d_i = j)\n",
    "\t\t&=\n",
    "\t\t\t\\Pr(\\forall k \\neq j; \\ u_{ij} \\geq u_{ik}) \\\\\n",
    "\t\t&=\n",
    "\t\t\t\\Pr(\\forall k \\neq j; \\ \\epsilon_{ij} + \\delta_j - \\delta_k \\geq \\epsilon_{ik}) \\\\\n",
    "\t\t&=\n",
    "\t\t\t\\prod_{k \\neq j} \\Pr(\\epsilon_{ij} + \\delta_j - \\delta_k \\geq \\epsilon_{ik}) \\quad (\\because \\ \\text{indep.}) \\\\\n",
    "\t\t&=\n",
    "\t\t\t\\int_{-\\infty}^\\infty F(\\epsilon_{ij} + \\delta_j - \\delta_k) f(\\epsilon_{ij}) \\mathrm d \\epsilon_{ij} \\\\\n",
    "\t\t&=\n",
    "\t\t\t\\int_{-\\infty}^\\infty \\exp\\left(\n",
    "\t\t\t\\sum_{k \\neq j} - \\exp(-\\epsilon_{ij} - \\delta_j + \\delta_k)\n",
    "\t\t\t\\right)\n",
    "\t\t\t\\mathrm e^{-\\epsilon_{ij}} \\cdot \\exp(-\\exp(-\\epsilon_{ij}))\n",
    "\t\t\t\\mathrm d \\epsilon_{ij} \\\\\n",
    "\t\t&=\n",
    "\t\t\t\\int_{-\\infty}^\\infty \\exp\\left(\n",
    "\t\t\t\t\\sum_{k} - \\exp(-x - \\delta_j + \\delta_k)\n",
    "\t\t\t\t\\right)\n",
    "\t\t\t\t\\mathrm e^{-x}\n",
    "\t\t\t\t\\mathrm d x \\quad (x := \\epsilon_{ij})\\\\\n",
    "\t\t&=\n",
    "\t\t\t\\int_{-\\infty}^\\infty \\exp\\left(\n",
    "\t\t\t- \\mathrm e^{-x}\n",
    "\t\t\t\t\\sum_{k} \\exp(\\delta_k - \\delta_j)\n",
    "\t\t\t\t\\right)\n",
    "\t\t\t\t\\mathrm e^{-x}\n",
    "\t\t\t\t\\mathrm d x \\\\\n",
    "\t\t&=\n",
    "\t\t\t\\int_{0}^\\infty \\exp\\left(\n",
    "\t\t\t-t\n",
    "\t\t\t\t\\sum_{k} \\exp(\\delta_k - \\delta_j)\n",
    "\t\t\t\t\\right)\n",
    "\t\t\t\t\\mathrm d t \\quad (t := \\mathrm e^{-x}) \\\\\n",
    "\t\t&=\n",
    "\t\t\t\\left[-\n",
    "\t\t\t\t\\left(\\sum_{k} \\exp(\\delta_k - \\delta_j)\\right)^{-1}\n",
    "\t\t\t\t\\exp\\left(\n",
    "\t\t\t\t-t\n",
    "\t\t\t\t\t\\sum_{k} \\exp(\\delta_k - \\delta_j)\n",
    "\t\t\t\t\t\\right)\n",
    "\t\t\t\\right]_{0}^{\\infty} \\\\\n",
    "\t\t&=\n",
    "\t\t\t\\left(\\sum_{k} \\exp(\\delta_k - \\delta_j)\\right)^{-1} \\\\\n",
    "\t\t&=\n",
    "\t\t\\frac{\\exp(\\delta_j)}{\\sum_k \\exp (\\delta_k)}\n",
    "\\end{align*}"
   ]
  },
  {
   "cell_type": "markdown",
   "metadata": {},
   "source": [
    "## Problem 2"
   ]
  },
  {
   "cell_type": "markdown",
   "metadata": {},
   "source": [
    "The likelihood is:\n",
    "\\[\n",
    "    \\sum_i \\sum_j y_{ij} \\cdot \\log \\left(\n",
    "        \\frac{\\exp(X_{ij} \\beta)}{1 + \\sum_k \\exp(X_{ik}\\beta)}\n",
    "    \\right)\n",
    "\\]\n",
    "\n",
    "In order to use `scipy.optimize.minimize`, we define a loss function that is the likelihood multiplied by $-1$.\n",
    "\n",
    "The estimated value is $\\beta^* \\approx (-1.88673942, 0.09717683, -1.02683967)$."
   ]
  },
  {
   "cell_type": "code",
   "execution_count": 16,
   "metadata": {
    "ExecuteTime": {
     "end_time": "2019-04-19T05:12:03.424855Z",
     "start_time": "2019-04-19T05:12:02.893559Z"
    },
    "scrolled": true
   },
   "outputs": [
    {
     "name": "stdout",
     "output_type": "stream",
     "text": [
      "The estimated beta is [-1.88673942  0.09717683 -1.02683967]\n"
     ]
    }
   ],
   "source": [
    "# import\n",
    "import pandas as pd\n",
    "import numpy as np\n",
    "from scipy.optimize import minimize\n",
    "\n",
    "\n",
    "# read csv\n",
    "df = pd.read_csv('DataPS201901.csv', header=None)\n",
    "data = df.values\n",
    "\n",
    "# pre-processing\n",
    "x = [{'hp': 1.0, 'fe': 5.0}, {'hp': 1.2, 'fe': 3.5}, {'hp': 1.4, 'fe': 2.0}]\n",
    "y = data[:,0]\n",
    "\n",
    "age = data[:, 1]\n",
    "gender = data[:, 2]\n",
    "N = data.shape[0] # the number of agents\n",
    "J = data.shape[1] # the number of goods\n",
    "\n",
    "age = age[:, np.newaxis]/100 # rescaling\n",
    "gender = gender[:, np.newaxis]\n",
    "\n",
    "X = []\n",
    "for j in range(data.shape[1]):\n",
    "    temp = np.hstack([np.ones((N,1)), age * x[j]['hp'], gender * x[j]['fe']])\n",
    "    X.append(temp)\n",
    "\n",
    "    \n",
    "# loss function\n",
    "## use numpy to speed up\n",
    "def loss_np(beta):\n",
    "    # temp(i,j) = exp(X_ij @ beta)\n",
    "    for j in range(J):\n",
    "        if j == 0:\n",
    "            temp = np.exp(X[j] @ beta)[:, np.newaxis]\n",
    "        else:\n",
    "            temp = np.hstack([temp, np.exp(X[j] @ beta)[:, np.newaxis]])\n",
    "\n",
    "    exp_sum = np.sum(temp, axis=1) + 1\n",
    "\n",
    "    # z_ij は，(i,j)に対応するlogの中身\n",
    "    z_0 = np.ones((N,1)) / exp_sum[:, np.newaxis] # outside option\n",
    "    z = temp / exp_sum[:, np.newaxis]\n",
    "    z = np.hstack([z_0, z])\n",
    "    w = np.log(z)\n",
    "    \n",
    "    Y = np.zeros((N, J+1))\n",
    "    for i in range(N):\n",
    "        Y[i][y[i]] = 1\n",
    "    \n",
    "    return - (Y * w).sum()\n",
    "\n",
    "res = minimize(loss_np, x0=[1, 1, 1])\n",
    "beta = res.x\n",
    "beta[1] = beta[1] / 100 # rescaling\n",
    "\n",
    "print('The estimated beta is {}'.format(beta))"
   ]
  },
  {
   "cell_type": "markdown",
   "metadata": {},
   "source": [
    "### 試行錯誤\n",
    "\n",
    "* 以下は試行錯誤の記録．\n",
    "* outside optionの扱い方を微妙に間違えていたので，$\\beta_0$の推定値が冒頭のものとずれている．(冒頭のコードでは修正済み)\n",
    "* 一応記録として残しておく．"
   ]
  },
  {
   "cell_type": "code",
   "execution_count": 121,
   "metadata": {
    "ExecuteTime": {
     "end_time": "2019-04-18T04:26:02.415878Z",
     "start_time": "2019-04-18T04:26:02.393532Z"
    }
   },
   "outputs": [],
   "source": [
    "import pandas as pd\n",
    "import numpy as np\n",
    "from scipy.optimize import minimize\n",
    "\n",
    "%matplotlib inline\n",
    "import matplotlib.pyplot as plt\n",
    "\n",
    "df = pd.read_csv('DataMat.csv', header=None)\n",
    "data = df.values"
   ]
  },
  {
   "cell_type": "code",
   "execution_count": 45,
   "metadata": {
    "ExecuteTime": {
     "end_time": "2019-04-18T03:20:49.808377Z",
     "start_time": "2019-04-18T03:20:49.805295Z"
    }
   },
   "outputs": [],
   "source": [
    "x = [{'hp': 1, 'fe': 5}, {'hp': 1.2, 'fe': 3.5}, {'hp': 1.4, 'fe': 2}]"
   ]
  },
  {
   "cell_type": "code",
   "execution_count": 5,
   "metadata": {
    "ExecuteTime": {
     "end_time": "2019-04-18T02:15:27.933779Z",
     "start_time": "2019-04-18T02:15:27.928767Z"
    }
   },
   "outputs": [
    {
     "data": {
      "text/plain": [
       "array([[ 0, 29,  1],\n",
       "       [ 1, 27,  0],\n",
       "       [ 3, 36,  0]])"
      ]
     },
     "execution_count": 5,
     "metadata": {},
     "output_type": "execute_result"
    }
   ],
   "source": [
    "data[1:4]"
   ]
  },
  {
   "cell_type": "markdown",
   "metadata": {},
   "source": [
    "* outside optionから得る効用はどう考えればよい？\n",
    "* とりあえず，option 0からのutilityは0と仮定しておく．\n",
    "    - likelihoodを見た感じこうしていそう．"
   ]
  },
  {
   "cell_type": "code",
   "execution_count": 7,
   "metadata": {
    "ExecuteTime": {
     "end_time": "2019-04-18T02:18:44.280172Z",
     "start_time": "2019-04-18T02:18:44.275506Z"
    }
   },
   "outputs": [
    {
     "data": {
      "text/plain": [
       "(10000,)"
      ]
     },
     "execution_count": 7,
     "metadata": {},
     "output_type": "execute_result"
    }
   ],
   "source": [
    "y = data[:,0]\n",
    "y.shape"
   ]
  },
  {
   "cell_type": "code",
   "execution_count": 29,
   "metadata": {
    "ExecuteTime": {
     "end_time": "2019-04-18T02:44:05.685729Z",
     "start_time": "2019-04-18T02:44:05.681959Z"
    }
   },
   "outputs": [],
   "source": [
    "age = data[:, 1]\n",
    "gender = data[:, 2]\n",
    "N = data.shape[0] # the number of agents\n",
    "J = data.shape[1] # the number of goods"
   ]
  },
  {
   "cell_type": "code",
   "execution_count": 10,
   "metadata": {
    "ExecuteTime": {
     "end_time": "2019-04-18T02:21:12.974013Z",
     "start_time": "2019-04-18T02:21:12.969117Z"
    },
    "scrolled": true
   },
   "outputs": [
    {
     "data": {
      "text/plain": [
       "(10000,)"
      ]
     },
     "execution_count": 10,
     "metadata": {},
     "output_type": "execute_result"
    }
   ],
   "source": [
    "age.shape"
   ]
  },
  {
   "cell_type": "code",
   "execution_count": 11,
   "metadata": {
    "ExecuteTime": {
     "end_time": "2019-04-18T02:21:26.722153Z",
     "start_time": "2019-04-18T02:21:26.717149Z"
    }
   },
   "outputs": [
    {
     "data": {
      "text/plain": [
       "(10000, 1)"
      ]
     },
     "execution_count": 11,
     "metadata": {},
     "output_type": "execute_result"
    }
   ],
   "source": [
    "age[:, np.newaxis].shape"
   ]
  },
  {
   "cell_type": "code",
   "execution_count": 19,
   "metadata": {
    "ExecuteTime": {
     "end_time": "2019-04-18T02:27:16.081239Z",
     "start_time": "2019-04-18T02:27:16.077510Z"
    }
   },
   "outputs": [],
   "source": [
    "age = age[:, np.newaxis]\n",
    "gender = gender[:, np.newaxis]"
   ]
  },
  {
   "cell_type": "code",
   "execution_count": 23,
   "metadata": {
    "ExecuteTime": {
     "end_time": "2019-04-18T02:28:16.018865Z",
     "start_time": "2019-04-18T02:28:16.012916Z"
    }
   },
   "outputs": [],
   "source": [
    "X = []\n",
    "for i in range(data.shape[1]):\n",
    "    temp = np.hstack([np.ones((n,1)), age * x[i]['hp'], gender * x[i]['fe']])\n",
    "    X.append(temp)"
   ]
  },
  {
   "cell_type": "code",
   "execution_count": 24,
   "metadata": {
    "ExecuteTime": {
     "end_time": "2019-04-18T02:28:34.958536Z",
     "start_time": "2019-04-18T02:28:34.954201Z"
    }
   },
   "outputs": [
    {
     "data": {
      "text/plain": [
       "3"
      ]
     },
     "execution_count": 24,
     "metadata": {},
     "output_type": "execute_result"
    }
   ],
   "source": [
    "len(X)"
   ]
  },
  {
   "cell_type": "code",
   "execution_count": 27,
   "metadata": {
    "ExecuteTime": {
     "end_time": "2019-04-18T02:29:22.000883Z",
     "start_time": "2019-04-18T02:29:21.996407Z"
    }
   },
   "outputs": [
    {
     "data": {
      "text/plain": [
       "(10000, 3)"
      ]
     },
     "execution_count": 27,
     "metadata": {},
     "output_type": "execute_result"
    }
   ],
   "source": [
    "X[0].shape"
   ]
  },
  {
   "cell_type": "code",
   "execution_count": 32,
   "metadata": {
    "ExecuteTime": {
     "end_time": "2019-04-18T02:45:52.071910Z",
     "start_time": "2019-04-18T02:45:52.067254Z"
    }
   },
   "outputs": [
    {
     "data": {
      "text/plain": [
       "array([[ 1., 46.,  5.],\n",
       "       [ 1., 29.,  5.],\n",
       "       [ 1., 27.,  0.]])"
      ]
     },
     "execution_count": 32,
     "metadata": {},
     "output_type": "execute_result"
    }
   ],
   "source": [
    "X[0][0:3]"
   ]
  },
  {
   "cell_type": "code",
   "execution_count": 33,
   "metadata": {
    "ExecuteTime": {
     "end_time": "2019-04-18T02:45:53.065022Z",
     "start_time": "2019-04-18T02:45:53.059996Z"
    }
   },
   "outputs": [
    {
     "data": {
      "text/plain": [
       "array([ 1., 46.,  5.])"
      ]
     },
     "execution_count": 33,
     "metadata": {},
     "output_type": "execute_result"
    }
   ],
   "source": [
    "X[0][0]"
   ]
  },
  {
   "cell_type": "markdown",
   "metadata": {},
   "source": [
    "The likelihood is:\n",
    "\\[\n",
    "    \\sum_i \\sum_j y_{ij} \\cdot \\log \\left(\n",
    "        \\frac{\\exp(X_{ij} \\beta)}{1 + \\sum_k \\exp(X_{ik}\\beta)}\n",
    "    \\right)\n",
    "\\]\n",
    "\n",
    "In order to use `scipy.optimize.minimize`, we define a loss function that is the likelihood multiplied by $-1$."
   ]
  },
  {
   "cell_type": "code",
   "execution_count": 39,
   "metadata": {
    "ExecuteTime": {
     "end_time": "2019-04-18T02:50:09.475954Z",
     "start_time": "2019-04-18T02:50:09.470321Z"
    }
   },
   "outputs": [],
   "source": [
    "def loss(beta):\n",
    "    likelihood = 0\n",
    "    \n",
    "    for i in range(N):\n",
    "        exp_sum_i = 0\n",
    "        for k in range(J):\n",
    "            exp_sum_i += np.exp(np.dot(X[k][i], beta))\n",
    "            \n",
    "        for j in range(J):\n",
    "            if y[i] == j+1:\n",
    "                likelihood += np.log(np.exp(np.dot(X[j][i], beta)) / (1 + exp_sum_i))\n",
    "            \n",
    "    return -likelihood"
   ]
  },
  {
   "cell_type": "code",
   "execution_count": 40,
   "metadata": {
    "ExecuteTime": {
     "end_time": "2019-04-18T02:52:20.347676Z",
     "start_time": "2019-04-18T02:50:10.414486Z"
    },
    "scrolled": true
   },
   "outputs": [
    {
     "data": {
      "text/plain": [
       "      fun: 5642.963877239355\n",
       " hess_inv: array([[1.21910144e+03, 1.41089742e-02, 5.41872993e-01],\n",
       "       [1.41089742e-02, 6.58271907e-06, 2.53141516e-05],\n",
       "       [5.41872993e-01, 2.53141516e-05, 9.30043903e-04]])\n",
       "      jac: array([0.        , 0.0090332 , 0.18096924])\n",
       "  message: 'Desired error not necessarily achieved due to precision loss.'\n",
       "     nfev: 527\n",
       "      nit: 20\n",
       "     njev: 103\n",
       "   status: 2\n",
       "  success: False\n",
       "        x: array([13.3987244 ,  0.09608822, -1.02544154])"
      ]
     },
     "execution_count": 40,
     "metadata": {},
     "output_type": "execute_result"
    }
   ],
   "source": [
    "minimize(loss, x0=[1,1,1])"
   ]
  },
  {
   "cell_type": "code",
   "execution_count": 41,
   "metadata": {
    "ExecuteTime": {
     "end_time": "2019-04-18T02:57:09.635884Z",
     "start_time": "2019-04-18T02:53:45.474442Z"
    }
   },
   "outputs": [
    {
     "data": {
      "text/plain": [
       "      fun: 5642.963534304632\n",
       " hess_inv: array([[ 8.77955991e-05, -2.45414936e-08, -6.29354103e-06],\n",
       "       [-2.45414936e-08,  1.31857332e-06,  1.22613938e-06],\n",
       "       [-6.29354103e-06,  1.22613938e-06,  1.58809846e-06]])\n",
       "      jac: array([ 0.00000000e+00,  2.44140625e-04, -6.10351562e-05])\n",
       "  message: 'Desired error not necessarily achieved due to precision loss.'\n",
       "     nfev: 821\n",
       "      nit: 14\n",
       "     njev: 161\n",
       "   status: 2\n",
       "  success: False\n",
       "        x: array([16.87920569,  0.09608177, -1.02567451])"
      ]
     },
     "execution_count": 41,
     "metadata": {},
     "output_type": "execute_result"
    }
   ],
   "source": [
    "minimize(loss, x0=[0,0,0])"
   ]
  },
  {
   "cell_type": "code",
   "execution_count": 44,
   "metadata": {
    "ExecuteTime": {
     "end_time": "2019-04-18T03:20:49.802966Z",
     "start_time": "2019-04-18T03:06:27.765812Z"
    }
   },
   "outputs": [
    {
     "data": {
      "text/plain": [
       "     fun: 5642.966086993853\n",
       "     jac: array([-0.00354004,  0.00561523,  0.0012207 ])\n",
       " message: 'Desired error not necessarily achieved due to precision loss.'\n",
       "    nfev: 3267\n",
       "     nit: 213\n",
       "    njev: 651\n",
       "  status: 2\n",
       " success: False\n",
       "       x: array([11.35671974,  0.09608279, -1.02566112])"
      ]
     },
     "execution_count": 44,
     "metadata": {},
     "output_type": "execute_result"
    }
   ],
   "source": [
    "minimize(loss, x0=[0,0,0], method='CG')"
   ]
  },
  {
   "cell_type": "markdown",
   "metadata": {},
   "source": [
    "* $\\beta_0$の値がまちまち．数値誤差？"
   ]
  },
  {
   "cell_type": "code",
   "execution_count": 59,
   "metadata": {
    "ExecuteTime": {
     "end_time": "2019-04-18T03:36:24.031122Z",
     "start_time": "2019-04-18T03:35:34.888071Z"
    }
   },
   "outputs": [
    {
     "data": {
      "image/png": "[encoded data removed]",
      "text/plain": [
       "<Figure size 432x288 with 1 Axes>"
      ]
     },
     "metadata": {
      "needs_background": "light"
     },
     "output_type": "display_data"
    }
   ],
   "source": [
    "# plotしてみる\n",
    "beta0s = np.arange(10,20,0.05)\n",
    "losses = []\n",
    "for beta0 in beta0s:\n",
    "    losses.append(loss(np.array([beta0, 0.09608279, -1.02566112])))\n",
    "losses = np.array(losses)\n",
    "plt.plot(beta0s, losses)\n",
    "plt.show()"
   ]
  },
  {
   "cell_type": "code",
   "execution_count": 60,
   "metadata": {
    "ExecuteTime": {
     "end_time": "2019-04-18T03:37:43.272319Z",
     "start_time": "2019-04-18T03:36:24.033721Z"
    }
   },
   "outputs": [
    {
     "data": {
      "image/png": "[encoded data removed]",
      "text/plain": [
       "<Figure size 432x288 with 1 Axes>"
      ]
     },
     "metadata": {
      "needs_background": "light"
     },
     "output_type": "display_data"
    }
   ],
   "source": [
    "# plotしてみる\n",
    "beta0s = np.arange(15,30,0.05)\n",
    "losses = []\n",
    "for beta0 in beta0s:\n",
    "    losses.append(loss(np.array([beta0, 0.09608279, -1.02566112])))\n",
    "losses = np.array(losses)\n",
    "plt.plot(beta0s, losses)\n",
    "plt.show()"
   ]
  },
  {
   "cell_type": "code",
   "execution_count": 61,
   "metadata": {
    "ExecuteTime": {
     "end_time": "2019-04-18T03:39:43.869226Z",
     "start_time": "2019-04-18T03:38:26.225831Z"
    }
   },
   "outputs": [
    {
     "data": {
      "image/png": "[encoded data removed]",
      "text/plain": [
       "<Figure size 432x288 with 1 Axes>"
      ]
     },
     "metadata": {
      "needs_background": "light"
     },
     "output_type": "display_data"
    }
   ],
   "source": [
    "# plotしてみる\n",
    "beta0s = np.arange(30,45,0.05)\n",
    "losses = []\n",
    "for beta0 in beta0s:\n",
    "    losses.append(loss(np.array([beta0, 0.09608279, -1.02566112])))\n",
    "losses = np.array(losses)\n",
    "plt.plot(beta0s, losses)\n",
    "plt.show()"
   ]
  },
  {
   "cell_type": "code",
   "execution_count": 62,
   "metadata": {
    "ExecuteTime": {
     "end_time": "2019-04-18T03:39:47.530440Z",
     "start_time": "2019-04-18T03:39:47.240586Z"
    }
   },
   "outputs": [
    {
     "data": {
      "text/plain": [
       "11901.33709021596"
      ]
     },
     "execution_count": 62,
     "metadata": {},
     "output_type": "execute_result"
    }
   ],
   "source": [
    "loss(np.array([0,0,0]))"
   ]
  },
  {
   "cell_type": "markdown",
   "metadata": {},
   "source": [
    "* $\\beta_0$は大きければなんでもよい　みたいになっている．おかしい．"
   ]
  },
  {
   "cell_type": "markdown",
   "metadata": {},
   "source": [
    "### 高速化\n",
    "\n",
    "* いろいろ試したいが，計算が遅くてイライラする．\n",
    "    - 一回最適化するのに数分かかる．\n",
    "\n",
    "* なるべくfor文を避けてnumpyを用いて高速化"
   ]
  },
  {
   "cell_type": "code",
   "execution_count": 67,
   "metadata": {
    "ExecuteTime": {
     "end_time": "2019-04-18T03:48:23.262132Z",
     "start_time": "2019-04-18T03:48:23.258634Z"
    }
   },
   "outputs": [],
   "source": [
    "beta = np.array([1,1,1])"
   ]
  },
  {
   "cell_type": "code",
   "execution_count": 63,
   "metadata": {
    "ExecuteTime": {
     "end_time": "2019-04-18T03:46:03.707020Z",
     "start_time": "2019-04-18T03:46:03.701877Z"
    },
    "scrolled": true
   },
   "outputs": [
    {
     "data": {
      "text/plain": [
       "array([[ 1., 46.,  5.],\n",
       "       [ 1., 29.,  5.],\n",
       "       [ 1., 27.,  0.],\n",
       "       ...,\n",
       "       [ 1., 56.,  0.],\n",
       "       [ 1., 34.,  0.],\n",
       "       [ 1., 32.,  5.]])"
      ]
     },
     "execution_count": 63,
     "metadata": {},
     "output_type": "execute_result"
    }
   ],
   "source": [
    "X[0]"
   ]
  },
  {
   "cell_type": "code",
   "execution_count": 68,
   "metadata": {
    "ExecuteTime": {
     "end_time": "2019-04-18T03:48:25.483731Z",
     "start_time": "2019-04-18T03:48:25.478213Z"
    }
   },
   "outputs": [
    {
     "data": {
      "text/plain": [
       "array([52., 35., 28., ..., 57., 35., 38.])"
      ]
     },
     "execution_count": 68,
     "metadata": {},
     "output_type": "execute_result"
    }
   ],
   "source": [
    "X[0] @ beta"
   ]
  },
  {
   "cell_type": "code",
   "execution_count": 69,
   "metadata": {
    "ExecuteTime": {
     "end_time": "2019-04-18T03:48:27.750303Z",
     "start_time": "2019-04-18T03:48:27.745289Z"
    }
   },
   "outputs": [
    {
     "data": {
      "text/plain": [
       "array([3.83100800e+22, 1.58601345e+15, 1.44625706e+12, ...,\n",
       "       5.68572000e+24, 1.58601345e+15, 3.18559318e+16])"
      ]
     },
     "execution_count": 69,
     "metadata": {},
     "output_type": "execute_result"
    }
   ],
   "source": [
    "np.exp(X[0] @ beta) # exp(X_{i1} beta)"
   ]
  },
  {
   "cell_type": "code",
   "execution_count": 70,
   "metadata": {
    "ExecuteTime": {
     "end_time": "2019-04-18T03:48:38.298514Z",
     "start_time": "2019-04-18T03:48:38.293195Z"
    }
   },
   "outputs": [
    {
     "data": {
      "text/plain": [
       "(10000,)"
      ]
     },
     "execution_count": 70,
     "metadata": {},
     "output_type": "execute_result"
    }
   ],
   "source": [
    "np.exp(X[0] @ beta).shape"
   ]
  },
  {
   "cell_type": "code",
   "execution_count": 72,
   "metadata": {
    "ExecuteTime": {
     "end_time": "2019-04-18T03:52:43.424030Z",
     "start_time": "2019-04-18T03:52:43.416981Z"
    }
   },
   "outputs": [
    {
     "data": {
      "text/plain": [
       "(10000, 3)"
      ]
     },
     "execution_count": 72,
     "metadata": {},
     "output_type": "execute_result"
    }
   ],
   "source": [
    "# temp(i,j) = exp(X_ij @ beta)\n",
    "\n",
    "for i in range(J):\n",
    "    if i == 0:\n",
    "        temp = np.exp(X[i] @ beta)[:, np.newaxis]\n",
    "    else:\n",
    "        temp = np.hstack([temp, np.exp(X[i] @ beta)[:, np.newaxis]])\n",
    "temp.shape"
   ]
  },
  {
   "cell_type": "code",
   "execution_count": 75,
   "metadata": {
    "ExecuteTime": {
     "end_time": "2019-04-18T03:54:40.625833Z",
     "start_time": "2019-04-18T03:54:40.620610Z"
    }
   },
   "outputs": [
    {
     "data": {
      "text/plain": [
       "(10000,)"
      ]
     },
     "execution_count": 75,
     "metadata": {},
     "output_type": "execute_result"
    }
   ],
   "source": [
    "np.sum(temp, axis=1).shape"
   ]
  },
  {
   "cell_type": "code",
   "execution_count": 77,
   "metadata": {
    "ExecuteTime": {
     "end_time": "2019-04-18T03:55:29.989127Z",
     "start_time": "2019-04-18T03:55:29.985733Z"
    }
   },
   "outputs": [],
   "source": [
    "exp_sum = np.sum(temp, axis=1)+1"
   ]
  },
  {
   "cell_type": "code",
   "execution_count": 86,
   "metadata": {
    "ExecuteTime": {
     "end_time": "2019-04-18T04:02:34.346725Z",
     "start_time": "2019-04-18T04:02:34.343454Z"
    }
   },
   "outputs": [],
   "source": [
    "# z_ij は，(i,j)に対応するlogの中身\n",
    "z = temp / exp_sum[:, np.newaxis]"
   ]
  },
  {
   "cell_type": "code",
   "execution_count": 92,
   "metadata": {
    "ExecuteTime": {
     "end_time": "2019-04-18T04:05:43.543886Z",
     "start_time": "2019-04-18T04:05:43.539281Z"
    }
   },
   "outputs": [
    {
     "data": {
      "text/plain": [
       "(10000, 3)"
      ]
     },
     "execution_count": 92,
     "metadata": {},
     "output_type": "execute_result"
    }
   ],
   "source": [
    "w = np.log(z)\n",
    "w.shape"
   ]
  },
  {
   "cell_type": "code",
   "execution_count": 95,
   "metadata": {
    "ExecuteTime": {
     "end_time": "2019-04-18T04:06:57.215510Z",
     "start_time": "2019-04-18T04:06:57.208261Z"
    }
   },
   "outputs": [
    {
     "data": {
      "text/plain": [
       "(10000, 4)"
      ]
     },
     "execution_count": 95,
     "metadata": {},
     "output_type": "execute_result"
    }
   ],
   "source": [
    "Y = np.zeros((N, J+1))\n",
    "Y.shape"
   ]
  },
  {
   "cell_type": "code",
   "execution_count": 96,
   "metadata": {
    "ExecuteTime": {
     "end_time": "2019-04-18T04:06:58.127945Z",
     "start_time": "2019-04-18T04:06:58.115060Z"
    }
   },
   "outputs": [],
   "source": [
    "for i in range(N):\n",
    "    Y[i][y[i]] = 1"
   ]
  },
  {
   "cell_type": "code",
   "execution_count": 90,
   "metadata": {
    "ExecuteTime": {
     "end_time": "2019-04-18T04:04:37.320497Z",
     "start_time": "2019-04-18T04:04:37.315046Z"
    },
    "scrolled": true
   },
   "outputs": [
    {
     "data": {
      "text/plain": [
       "array([[0., 0., 0., 1.],\n",
       "       [1., 0., 0., 0.],\n",
       "       [0., 1., 0., 0.],\n",
       "       [0., 0., 0., 1.]])"
      ]
     },
     "execution_count": 90,
     "metadata": {},
     "output_type": "execute_result"
    }
   ],
   "source": [
    "Y[0:4]"
   ]
  },
  {
   "cell_type": "code",
   "execution_count": 91,
   "metadata": {
    "ExecuteTime": {
     "end_time": "2019-04-18T04:04:44.358053Z",
     "start_time": "2019-04-18T04:04:44.353372Z"
    }
   },
   "outputs": [
    {
     "data": {
      "text/plain": [
       "array([3, 0, 1, 3])"
      ]
     },
     "execution_count": 91,
     "metadata": {},
     "output_type": "execute_result"
    }
   ],
   "source": [
    "y[0:4]"
   ]
  },
  {
   "cell_type": "code",
   "execution_count": 97,
   "metadata": {
    "ExecuteTime": {
     "end_time": "2019-04-18T04:07:01.364945Z",
     "start_time": "2019-04-18T04:07:01.359557Z"
    }
   },
   "outputs": [
    {
     "data": {
      "text/plain": [
       "(10000, 3)"
      ]
     },
     "execution_count": 97,
     "metadata": {},
     "output_type": "execute_result"
    }
   ],
   "source": [
    "Y = Y[:, 1:]\n",
    "Y.shape"
   ]
  },
  {
   "cell_type": "code",
   "execution_count": 99,
   "metadata": {
    "ExecuteTime": {
     "end_time": "2019-04-18T04:08:20.434060Z",
     "start_time": "2019-04-18T04:08:20.429362Z"
    }
   },
   "outputs": [
    {
     "data": {
      "text/plain": [
       "(10000, 3)"
      ]
     },
     "execution_count": 99,
     "metadata": {},
     "output_type": "execute_result"
    }
   ],
   "source": [
    "S = Y * w\n",
    "S.shape"
   ]
  },
  {
   "cell_type": "code",
   "execution_count": 100,
   "metadata": {
    "ExecuteTime": {
     "end_time": "2019-04-18T04:08:27.382424Z",
     "start_time": "2019-04-18T04:08:27.376815Z"
    }
   },
   "outputs": [
    {
     "data": {
      "text/plain": [
       "array([[-0.00000000e+00, -0.00000000e+00, -4.52929647e-04],\n",
       "       [-0.00000000e+00, -0.00000000e+00, -0.00000000e+00],\n",
       "       [-1.08045267e+01, -0.00000000e+00, -0.00000000e+00],\n",
       "       [-0.00000000e+00, -0.00000000e+00, -7.46864226e-04]])"
      ]
     },
     "execution_count": 100,
     "metadata": {},
     "output_type": "execute_result"
    }
   ],
   "source": [
    "S[0:4]"
   ]
  },
  {
   "cell_type": "code",
   "execution_count": 101,
   "metadata": {
    "ExecuteTime": {
     "end_time": "2019-04-18T04:08:43.098514Z",
     "start_time": "2019-04-18T04:08:43.093614Z"
    }
   },
   "outputs": [
    {
     "data": {
      "text/plain": [
       "-22210.342850421337"
      ]
     },
     "execution_count": 101,
     "metadata": {},
     "output_type": "execute_result"
    }
   ],
   "source": [
    "S.sum()"
   ]
  },
  {
   "cell_type": "code",
   "execution_count": 102,
   "metadata": {
    "ExecuteTime": {
     "end_time": "2019-04-18T04:09:04.902380Z",
     "start_time": "2019-04-18T04:09:04.523125Z"
    }
   },
   "outputs": [
    {
     "data": {
      "text/plain": [
       "22210.342850421253"
      ]
     },
     "execution_count": 102,
     "metadata": {},
     "output_type": "execute_result"
    }
   ],
   "source": [
    "loss(np.array([1,1,1]))"
   ]
  },
  {
   "cell_type": "code",
   "execution_count": 80,
   "metadata": {
    "ExecuteTime": {
     "end_time": "2019-04-18T03:57:41.041440Z",
     "start_time": "2019-04-18T03:57:41.035300Z"
    }
   },
   "outputs": [
    {
     "data": {
      "text/plain": [
       "(3, 2)"
      ]
     },
     "execution_count": 80,
     "metadata": {},
     "output_type": "execute_result"
    }
   ],
   "source": [
    "a = np.array([\n",
    "    [1,2],\n",
    "    [3,4],\n",
    "    [5,6]\n",
    "])\n",
    "a.shape"
   ]
  },
  {
   "cell_type": "code",
   "execution_count": 81,
   "metadata": {
    "ExecuteTime": {
     "end_time": "2019-04-18T03:57:48.288554Z",
     "start_time": "2019-04-18T03:57:48.283898Z"
    }
   },
   "outputs": [
    {
     "data": {
      "text/plain": [
       "array([[1, 2],\n",
       "       [3, 4],\n",
       "       [5, 6]])"
      ]
     },
     "execution_count": 81,
     "metadata": {},
     "output_type": "execute_result"
    }
   ],
   "source": [
    "a"
   ]
  },
  {
   "cell_type": "code",
   "execution_count": 83,
   "metadata": {
    "ExecuteTime": {
     "end_time": "2019-04-18T03:58:26.619998Z",
     "start_time": "2019-04-18T03:58:26.614976Z"
    }
   },
   "outputs": [
    {
     "data": {
      "text/plain": [
       "(3, 1)"
      ]
     },
     "execution_count": 83,
     "metadata": {},
     "output_type": "execute_result"
    }
   ],
   "source": [
    "b = np.array(\n",
    "    [\n",
    "        [1],\n",
    "        [2],\n",
    "        [3]\n",
    "    ]\n",
    ")\n",
    "b.shape"
   ]
  },
  {
   "cell_type": "code",
   "execution_count": 84,
   "metadata": {
    "ExecuteTime": {
     "end_time": "2019-04-18T03:58:33.124524Z",
     "start_time": "2019-04-18T03:58:33.119117Z"
    }
   },
   "outputs": [
    {
     "data": {
      "text/plain": [
       "array([[1.        , 2.        ],\n",
       "       [1.5       , 2.        ],\n",
       "       [1.66666667, 2.        ]])"
      ]
     },
     "execution_count": 84,
     "metadata": {},
     "output_type": "execute_result"
    }
   ],
   "source": [
    "a/b"
   ]
  },
  {
   "cell_type": "code",
   "execution_count": 104,
   "metadata": {
    "ExecuteTime": {
     "end_time": "2019-04-18T04:11:59.764929Z",
     "start_time": "2019-04-18T04:11:59.757712Z"
    }
   },
   "outputs": [],
   "source": [
    "def loss_np(beta):\n",
    "    # temp(i,j) = exp(X_ij @ beta)\n",
    "    for i in range(J):\n",
    "        if i == 0:\n",
    "            temp = np.exp(X[i] @ beta)[:, np.newaxis]\n",
    "        else:\n",
    "            temp = np.hstack([temp, np.exp(X[i] @ beta)[:, np.newaxis]])\n",
    "    \n",
    "    exp_sum = np.sum(temp, axis=1) + 1\n",
    "    \n",
    "    # z_ij は，(i,j)に対応するlogの中身\n",
    "    z = temp / exp_sum[:, np.newaxis]\n",
    "    w = np.log(z)\n",
    "    \n",
    "    Y = np.zeros((N, J+1))\n",
    "    for i in range(N):\n",
    "        Y[i][y[i]] = 1\n",
    "    Y = Y[:, 1:]\n",
    "    \n",
    "    return - (Y * w).sum()"
   ]
  },
  {
   "cell_type": "code",
   "execution_count": 105,
   "metadata": {
    "ExecuteTime": {
     "end_time": "2019-04-18T04:12:13.089321Z",
     "start_time": "2019-04-18T04:12:13.074886Z"
    }
   },
   "outputs": [
    {
     "data": {
      "text/plain": [
       "22210.342850421337"
      ]
     },
     "execution_count": 105,
     "metadata": {},
     "output_type": "execute_result"
    }
   ],
   "source": [
    "loss_np(np.array([1,1,1]))"
   ]
  },
  {
   "cell_type": "code",
   "execution_count": 106,
   "metadata": {
    "ExecuteTime": {
     "end_time": "2019-04-18T04:12:37.113999Z",
     "start_time": "2019-04-18T04:12:36.133872Z"
    }
   },
   "outputs": [
    {
     "data": {
      "text/plain": [
       "      fun: 5642.963524136284\n",
       " hess_inv: array([[5.78318199e+04, 8.06373802e-02, 2.56322866e-03],\n",
       "       [8.06373802e-02, 5.39552692e-06, 3.96435098e-08],\n",
       "       [2.56322866e-03, 3.96435098e-08, 1.74628076e-06]])\n",
       "      jac: array([ 0.00000000e+00, -6.10351562e-05,  0.00000000e+00])\n",
       "  message: 'Desired error not necessarily achieved due to precision loss.'\n",
       "     nfev: 176\n",
       "      nit: 23\n",
       "     njev: 35\n",
       "   status: 2\n",
       "  success: False\n",
       "        x: array([21.76523867,  0.0960819 , -1.02567136])"
      ]
     },
     "execution_count": 106,
     "metadata": {},
     "output_type": "execute_result"
    }
   ],
   "source": [
    "minimize(loss_np, [1,1,1])"
   ]
  },
  {
   "cell_type": "code",
   "execution_count": 108,
   "metadata": {
    "ExecuteTime": {
     "end_time": "2019-04-18T04:13:19.448059Z",
     "start_time": "2019-04-18T04:13:17.456372Z"
    }
   },
   "outputs": [
    {
     "data": {
      "text/plain": [
       "      fun: 5642.963534561806\n",
       " hess_inv: array([[1.38947970e+04, 2.38641889e-03, 1.27876531e+00],\n",
       "       [2.38641889e-03, 6.30382152e-06, 3.51841571e-05],\n",
       "       [1.27876531e+00, 3.51841571e-05, 1.28517903e-03]])\n",
       "      jac: array([ 0.        , -0.0536499 ,  0.01037598])\n",
       "  message: 'Desired error not necessarily achieved due to precision loss.'\n",
       "     nfev: 362\n",
       "      nit: 21\n",
       "     njev: 70\n",
       "   status: 2\n",
       "  success: False\n",
       "        x: array([16.85951258,  0.09608192, -1.0256601 ])"
      ]
     },
     "execution_count": 108,
     "metadata": {},
     "output_type": "execute_result"
    }
   ],
   "source": [
    "minimize(loss_np, [10,1,1])"
   ]
  },
  {
   "cell_type": "markdown",
   "metadata": {},
   "source": [
    "* 数値誤差の問題は残る"
   ]
  },
  {
   "cell_type": "markdown",
   "metadata": {},
   "source": [
    "### 数値誤差の影響の緩和"
   ]
  },
  {
   "cell_type": "code",
   "execution_count": 109,
   "metadata": {
    "ExecuteTime": {
     "end_time": "2019-04-18T04:17:08.937619Z",
     "start_time": "2019-04-18T04:17:08.912435Z"
    }
   },
   "outputs": [],
   "source": [
    "import pandas as pd\n",
    "import numpy as np\n",
    "from scipy.optimize import minimize\n",
    "\n",
    "%matplotlib inline\n",
    "import matplotlib.pyplot as plt"
   ]
  },
  {
   "cell_type": "code",
   "execution_count": 110,
   "metadata": {
    "ExecuteTime": {
     "end_time": "2019-04-18T04:17:11.484064Z",
     "start_time": "2019-04-18T04:17:11.467540Z"
    }
   },
   "outputs": [],
   "source": [
    "df = pd.read_csv('DataMat.csv', header=None)\n",
    "data = df.values\n",
    "\n",
    "x = [{'hp': 1, 'fe': 5}, {'hp': 1.2, 'fe': 3.5}, {'hp': 1.4, 'fe': 2}]\n",
    "y = data[:,0]\n",
    "\n",
    "age = data[:, 1]\n",
    "gender = data[:, 2]\n",
    "N = data.shape[0] # the number of agents\n",
    "J = data.shape[1] # the number of goods\n",
    "\n",
    "age = age[:, np.newaxis]\n",
    "gender = gender[:, np.newaxis]\n",
    "\n",
    "X = []\n",
    "for i in range(data.shape[1]):\n",
    "    temp = np.hstack([np.ones((n,1)), age * x[i]['hp'], gender * x[i]['fe']])\n",
    "    X.append(temp)"
   ]
  },
  {
   "cell_type": "code",
   "execution_count": 111,
   "metadata": {
    "ExecuteTime": {
     "end_time": "2019-04-18T04:17:14.006782Z",
     "start_time": "2019-04-18T04:17:14.000151Z"
    }
   },
   "outputs": [],
   "source": [
    "def loss_np(beta):\n",
    "    # temp(i,j) = exp(X_ij @ beta)\n",
    "    for i in range(J):\n",
    "        if i == 0:\n",
    "            temp = np.exp(X[i] @ beta)[:, np.newaxis]\n",
    "        else:\n",
    "            temp = np.hstack([temp, np.exp(X[i] @ beta)[:, np.newaxis]])\n",
    "    \n",
    "    exp_sum = np.sum(temp, axis=1) + 1\n",
    "    \n",
    "    # z_ij は，(i,j)に対応するlogの中身\n",
    "    z = temp / exp_sum[:, np.newaxis]\n",
    "    w = np.log(z)\n",
    "    \n",
    "    Y = np.zeros((N, J+1))\n",
    "    for i in range(N):\n",
    "        Y[i][y[i]] = 1\n",
    "    Y = Y[:, 1:]\n",
    "    \n",
    "    return - (Y * w).sum()"
   ]
  },
  {
   "cell_type": "code",
   "execution_count": 112,
   "metadata": {
    "ExecuteTime": {
     "end_time": "2019-04-18T04:17:28.258495Z",
     "start_time": "2019-04-18T04:17:28.246472Z"
    }
   },
   "outputs": [
    {
     "data": {
      "text/plain": [
       "22210.342850421337"
      ]
     },
     "execution_count": 112,
     "metadata": {},
     "output_type": "execute_result"
    }
   ],
   "source": [
    "loss_np(np.array([1,1,1]))"
   ]
  },
  {
   "cell_type": "markdown",
   "metadata": {},
   "source": [
    "第二列の数値(age)を小さくしてみてはどうか？"
   ]
  },
  {
   "cell_type": "code",
   "execution_count": 116,
   "metadata": {
    "ExecuteTime": {
     "end_time": "2019-04-18T04:20:31.443180Z",
     "start_time": "2019-04-18T04:20:31.430713Z"
    }
   },
   "outputs": [],
   "source": [
    "df = pd.read_csv('DataMat.csv', header=None)\n",
    "data = df.values\n",
    "\n",
    "x = [{'hp': 1, 'fe': 5}, {'hp': 1.2, 'fe': 3.5}, {'hp': 1.4, 'fe': 2}]\n",
    "y = data[:,0]\n",
    "\n",
    "age = data[:, 1]\n",
    "gender = data[:, 2]\n",
    "N = data.shape[0] # the number of agents\n",
    "J = data.shape[1] # the number of goods\n",
    "\n",
    "age = age[:, np.newaxis]/100\n",
    "gender = gender[:, np.newaxis]\n",
    "\n",
    "X = []\n",
    "for i in range(data.shape[1]):\n",
    "    temp = np.hstack([np.ones((n,1)), age * x[i]['hp'], gender * x[i]['fe']])\n",
    "    X.append(temp)"
   ]
  },
  {
   "cell_type": "code",
   "execution_count": 118,
   "metadata": {
    "ExecuteTime": {
     "end_time": "2019-04-18T04:20:47.655714Z",
     "start_time": "2019-04-18T04:20:47.640827Z"
    }
   },
   "outputs": [
    {
     "data": {
      "text/plain": [
       "16654.455508814288"
      ]
     },
     "execution_count": 118,
     "metadata": {},
     "output_type": "execute_result"
    }
   ],
   "source": [
    "loss_np(np.array([1,1,1]))"
   ]
  },
  {
   "cell_type": "code",
   "execution_count": 119,
   "metadata": {
    "ExecuteTime": {
     "end_time": "2019-04-18T04:20:59.238363Z",
     "start_time": "2019-04-18T04:20:58.616536Z"
    },
    "scrolled": true
   },
   "outputs": [
    {
     "data": {
      "text/plain": [
       "      fun: 5642.963535419735\n",
       " hess_inv: array([[ 0.08824049, -0.0512807 , -0.00658171],\n",
       "       [-0.0512807 ,  0.0610947 ,  0.00335037],\n",
       "       [-0.00658171,  0.00335037,  0.00125427]])\n",
       "      jac: array([0., 0., 0.])\n",
       "  message: 'Optimization terminated successfully.'\n",
       "     nfev: 85\n",
       "      nit: 11\n",
       "     njev: 17\n",
       "   status: 0\n",
       "  success: True\n",
       "        x: array([16.77548996,  9.60819282, -1.02567122])"
      ]
     },
     "execution_count": 119,
     "metadata": {},
     "output_type": "execute_result"
    }
   ],
   "source": [
    "minimize(loss_np, [1,1,1])"
   ]
  },
  {
   "cell_type": "markdown",
   "metadata": {},
   "source": [
    "なんか上手くいったっぽい．\n",
    "\n",
    "$\\beta^* = (16.775, 0.096, -1.026)$"
   ]
  },
  {
   "cell_type": "code",
   "execution_count": 2,
   "metadata": {
    "ExecuteTime": {
     "end_time": "2019-04-18T04:43:33.637176Z",
     "start_time": "2019-04-18T04:43:31.468500Z"
    }
   },
   "outputs": [
    {
     "data": {
      "text/plain": [
       "      fun: 5642.963551863224\n",
       " hess_inv: array([[ 1.22333038e+04,  7.74993674e+00, -7.69986433e-01],\n",
       "       [ 7.74993674e+00,  4.97769923e-02,  1.44737346e-03],\n",
       "       [-7.69986433e-01,  1.44737346e-03,  9.22784616e-04]])\n",
       "      jac: array([ 0.        ,  0.00396729, -0.0234375 ])\n",
       "  message: 'Desired error not necessarily achieved due to precision loss.'\n",
       "     nfev: 377\n",
       "      nit: 35\n",
       "     njev: 73\n",
       "   status: 2\n",
       "  success: False\n",
       "        x: array([15.89925025,  9.60835769, -1.02568734])"
      ]
     },
     "execution_count": 2,
     "metadata": {},
     "output_type": "execute_result"
    }
   ],
   "source": [
    "# 念の為初期値を変えてみる\n",
    "minimize(loss_np, [0,0,0])"
   ]
  },
  {
   "cell_type": "code",
   "execution_count": 5,
   "metadata": {
    "ExecuteTime": {
     "end_time": "2019-04-18T04:44:13.140719Z",
     "start_time": "2019-04-18T04:44:12.343323Z"
    }
   },
   "outputs": [
    {
     "data": {
      "text/plain": [
       "      fun: 5642.963548730857\n",
       " hess_inv: array([[ 1.38876898, -2.45193404, -0.16530284],\n",
       "       [-2.45193404,  4.37719587,  0.29321664],\n",
       "       [-0.16530284,  0.29321664,  0.02071805]])\n",
       "      jac: array([0., 0., 0.])\n",
       "  message: 'Optimization terminated successfully.'\n",
       "     nfev: 150\n",
       "      nit: 7\n",
       "     njev: 30\n",
       "   status: 0\n",
       "  success: True\n",
       "        x: array([15.99999076,  9.6081896 , -1.02567141])"
      ]
     },
     "execution_count": 5,
     "metadata": {},
     "output_type": "execute_result"
    }
   ],
   "source": [
    "# 念の為初期値を変えてみる\n",
    "minimize(loss_np, [16,9,-1])"
   ]
  },
  {
   "cell_type": "code",
   "execution_count": 6,
   "metadata": {
    "ExecuteTime": {
     "end_time": "2019-04-18T04:44:37.946164Z",
     "start_time": "2019-04-18T04:44:37.571815Z"
    }
   },
   "outputs": [
    {
     "data": {
      "text/plain": [
       "      fun: 5642.963527397953\n",
       " hess_inv: array([[ 1.        , -0.0603509 , -0.01708453],\n",
       "       [-0.0603509 ,  0.06611195,  0.00476929],\n",
       "       [-0.01708453,  0.00476929,  0.00160369]])\n",
       "      jac: array([0., 0., 0.])\n",
       "  message: 'Optimization terminated successfully.'\n",
       "     nfev: 60\n",
       "      nit: 6\n",
       "     njev: 12\n",
       "   status: 0\n",
       "  success: True\n",
       "        x: array([17.9999953 ,  9.6081883 , -1.02567159])"
      ]
     },
     "execution_count": 6,
     "metadata": {},
     "output_type": "execute_result"
    }
   ],
   "source": [
    "# 念の為初期値を変えてみる\n",
    "minimize(loss_np, [18,9,-1])"
   ]
  },
  {
   "cell_type": "code",
   "execution_count": 7,
   "metadata": {
    "ExecuteTime": {
     "end_time": "2019-04-18T04:46:03.886425Z",
     "start_time": "2019-04-18T04:46:03.652962Z"
    }
   },
   "outputs": [
    {
     "data": {
      "text/plain": [
       "      fun: 5642.963524510758\n",
       " hess_inv: array([[1.00000000e+00, 2.02291122e-05, 1.26669092e-06],\n",
       "       [2.02291122e-05, 6.20274536e-02, 3.55855362e-03],\n",
       "       [1.26669092e-06, 3.55855362e-03, 1.24754930e-03]])\n",
       "      jac: array([0., 0., 0.])\n",
       "  message: 'Optimization terminated successfully.'\n",
       "     nfev: 35\n",
       "      nit: 5\n",
       "     njev: 7\n",
       "   status: 0\n",
       "  success: True\n",
       "        x: array([20.00019435,  9.60819234, -1.02567127])"
      ]
     },
     "execution_count": 7,
     "metadata": {},
     "output_type": "execute_result"
    }
   ],
   "source": [
    "# 念の為初期値を変えてみる\n",
    "minimize(loss_np, [20,9,-1])"
   ]
  },
  {
   "cell_type": "code",
   "execution_count": 3,
   "metadata": {
    "ExecuteTime": {
     "end_time": "2019-04-18T06:07:48.126192Z",
     "start_time": "2019-04-18T06:07:47.744023Z"
    },
    "scrolled": true
   },
   "outputs": [
    {
     "data": {
      "text/plain": [
       "      fun: 5642.963524058943\n",
       " hess_inv: array([[ 9.99999999e-01, -4.25113831e-06, -1.92721481e-07],\n",
       "       [-4.25113831e-06,  2.62783048e-02,  8.39832428e-04],\n",
       "       [-1.92721481e-07,  8.39832428e-04,  1.14487409e-03]])\n",
       "      jac: array([0., 0., 0.])\n",
       "  message: 'Optimization terminated successfully.'\n",
       "     nfev: 60\n",
       "      nit: 7\n",
       "     njev: 12\n",
       "   status: 0\n",
       "  success: True\n",
       "        x: array([49.99990282,  9.6081908 , -1.02567131])"
      ]
     },
     "execution_count": 3,
     "metadata": {},
     "output_type": "execute_result"
    }
   ],
   "source": [
    "# 念の為初期値を変えてみる\n",
    "minimize(loss_np, [50,9,-1])"
   ]
  },
  {
   "cell_type": "code",
   "execution_count": 10,
   "metadata": {
    "ExecuteTime": {
     "end_time": "2019-04-18T06:11:42.306603Z",
     "start_time": "2019-04-18T06:11:42.300868Z"
    }
   },
   "outputs": [
    {
     "name": "stdout",
     "output_type": "stream",
     "text": [
      "1415\n",
      "652\n",
      "1610\n",
      "6323\n"
     ]
    }
   ],
   "source": [
    "for i in range(J+1):\n",
    "    print(np.sum(data[:,0]==i))"
   ]
  },
  {
   "cell_type": "code",
   "execution_count": null,
   "metadata": {},
   "outputs": [],
   "source": []
  }
 ],
 "metadata": {
  "kernelspec": {
   "display_name": "Python 3",
   "language": "python",
   "name": "python3"
  },
  "language_info": {
   "codemirror_mode": {
    "name": "ipython",
    "version": 3
   },
   "file_extension": ".py",
   "mimetype": "text/x-python",
   "name": "python",
   "nbconvert_exporter": "python",
   "pygments_lexer": "ipython3",
   "version": "3.6.6"
  },
  "latex_envs": {
   "LaTeX_envs_menu_present": true,
   "autoclose": false,
   "autocomplete": true,
   "bibliofile": "biblio.bib",
   "cite_by": "apalike",
   "current_citInitial": 1,
   "eqLabelWithNumbers": true,
   "eqNumInitial": 1,
   "hotkeys": {
    "equation": "Ctrl-E",
    "itemize": "Ctrl-I"
   },
   "labels_anchors": false,
   "latex_user_defs": false,
   "report_style_numbering": false,
   "user_envs_cfg": false
  },
  "toc": {
   "base_numbering": 1,
   "nav_menu": {},
   "number_sections": true,
   "sideBar": true,
   "skip_h1_title": false,
   "title_cell": "Table of Contents",
   "title_sidebar": "Contents",
   "toc_cell": false,
   "toc_position": {},
   "toc_section_display": true,
   "toc_window_display": false
  }
 },
 "nbformat": 4,
 "nbformat_minor": 2
}
